{
 "cells": [
  {
   "metadata": {},
   "cell_type": "markdown",
   "source": "# Solana CLI",
   "id": "4d1f75064ece483f"
  },
  {
   "metadata": {},
   "cell_type": "markdown",
   "source": "## Create a new keypair",
   "id": "7ab76ad40e02b29a"
  },
  {
   "metadata": {
    "ExecuteTime": {
     "end_time": "2025-05-30T09:39:40.586311Z",
     "start_time": "2025-05-30T09:39:40.387051Z"
    }
   },
   "cell_type": "code",
   "source": "!solana-keygen new -o helium_demo.json --no-bip39-passphrase --force",
   "id": "b5168d3cd0b67556",
   "outputs": [
    {
     "name": "stdout",
     "output_type": "stream",
     "text": [
      "Generating a new keypair\r\n",
      "Wrote new keypair to helium_demo.json\r\n",
      "===============================================================================\r\n",
      "pubkey: 6AWqo9xKmtT5S97iwyNG6PoKcnftezuEyeFTf5pntCdy\r\n",
      "===============================================================================\r\n",
      "Save this seed phrase to recover your new keypair:\r\n",
      "sing recipe erupt sentence until share sibling faculty adjust turn lounge crane\r\n",
      "===============================================================================\r\n"
     ]
    }
   ],
   "execution_count": 26
  },
  {
   "metadata": {
    "ExecuteTime": {
     "end_time": "2025-05-30T09:39:59.277455Z",
     "start_time": "2025-05-30T09:39:59.067983Z"
    }
   },
   "cell_type": "code",
   "source": "!solana config set --keypair ./helium_demo.json\n",
   "id": "669d50b570f62280",
   "outputs": [
    {
     "name": "stdout",
     "output_type": "stream",
     "text": [
      "\u001B[1mConfig File:\u001B[0m /Users/greg/.config/solana/cli/config.yml\r\n",
      "\u001B[1mRPC URL:\u001B[0m https://api.devnet.solana.com \u001B[3m\u001B[0m\r\n",
      "\u001B[1mWebSocket URL:\u001B[0m wss://api.devnet.solana.com/ \u001B[3m(computed)\u001B[0m\r\n",
      "\u001B[1mKeypair Path:\u001B[0m ./helium_demo.json \u001B[3m\u001B[0m\r\n",
      "\u001B[1mCommitment:\u001B[0m confirmed \u001B[3m\u001B[0m\r\n"
     ]
    }
   ],
   "execution_count": 27
  },
  {
   "metadata": {
    "ExecuteTime": {
     "end_time": "2025-05-30T09:40:07.192840Z",
     "start_time": "2025-05-30T09:40:06.982826Z"
    }
   },
   "cell_type": "code",
   "source": "!solana address",
   "id": "c4ae0a6071dffea9",
   "outputs": [
    {
     "name": "stdout",
     "output_type": "stream",
     "text": [
      "6AWqo9xKmtT5S97iwyNG6PoKcnftezuEyeFTf5pntCdy\r\n"
     ]
    }
   ],
   "execution_count": 28
  },
  {
   "metadata": {},
   "cell_type": "markdown",
   "source": "## Read Balance",
   "id": "1ed067aa4d7eac85"
  },
  {
   "metadata": {
    "ExecuteTime": {
     "end_time": "2025-05-30T09:40:15.842728Z",
     "start_time": "2025-05-30T09:40:14.968943Z"
    }
   },
   "cell_type": "code",
   "source": "!solana balance",
   "id": "cad6c942bbbd328c",
   "outputs": [
    {
     "name": "stdout",
     "output_type": "stream",
     "text": [
      "0 SOL\r\n"
     ]
    }
   ],
   "execution_count": 29
  },
  {
   "metadata": {
    "ExecuteTime": {
     "end_time": "2025-05-30T09:40:27.404257Z",
     "start_time": "2025-05-30T09:40:23.341932Z"
    }
   },
   "cell_type": "code",
   "source": "!solana airdrop 1",
   "id": "d5dec8f1d76aeae5",
   "outputs": [
    {
     "name": "stdout",
     "output_type": "stream",
     "text": [
      "Requesting airdrop of 1 SOL\r\n",
      "\u001B[2K\u001B[32m⠠\u001B[0m Transaction confirmed                                                         \r\n",
      "\u001B[1mSignature:\u001B[0m 4Q4BF2ZjT51TN2pa5tK7hnWHc74mdDThumCtmr3JvceHZkroA1QGeu7YQBvkPAeAhrePB4tJBynjDjDp6DXyzBXr\r\n",
      "\r\n",
      "1 SOL\r\n"
     ]
    }
   ],
   "execution_count": 30
  },
  {
   "metadata": {
    "ExecuteTime": {
     "end_time": "2025-05-30T09:40:29.768636Z",
     "start_time": "2025-05-30T09:40:28.943236Z"
    }
   },
   "cell_type": "code",
   "source": "!solana balance",
   "id": "81177ad61976c1a2",
   "outputs": [
    {
     "name": "stdout",
     "output_type": "stream",
     "text": [
      "1 SOL\r\n"
     ]
    }
   ],
   "execution_count": 31
  },
  {
   "metadata": {},
   "cell_type": "markdown",
   "source": "## Send SOL",
   "id": "6118e6afeca136a2"
  },
  {
   "metadata": {
    "ExecuteTime": {
     "end_time": "2025-05-30T08:03:52.620322Z",
     "start_time": "2025-05-30T08:03:52.617857Z"
    }
   },
   "cell_type": "code",
   "source": "%env SOLANA_CANISTER_ADDRESS=G7Tgmmi5y4KMByBULWnu6JHaukszKVQRgqCgVy8bKbPX",
   "id": "9910f994fb77a7ea",
   "outputs": [
    {
     "name": "stdout",
     "output_type": "stream",
     "text": [
      "env: SOLANA_CANISTER_ADDRESS=G7Tgmmi5y4KMByBULWnu6JHaukszKVQRgqCgVy8bKbPX\n"
     ]
    }
   ],
   "execution_count": 14
  },
  {
   "metadata": {
    "ExecuteTime": {
     "end_time": "2025-05-30T08:03:58.416593Z",
     "start_time": "2025-05-30T08:03:55.499905Z"
    }
   },
   "cell_type": "code",
   "source": "!solana transfer \"${SOLANA_CANISTER_ADDRESS}\" 0.1 --allow-unfunded-recipient",
   "id": "f266ee7af9dc2bfc",
   "outputs": [
    {
     "name": "stdout",
     "output_type": "stream",
     "text": [
      "\u001B[2K\u001B[32m⠠\u001B[0m Transaction confirmed                                                         \r\n",
      "\u001B[1mSignature:\u001B[0m 2iB24ajo3JafFGdb8Trw2fa82csm2mvnaA4iYM8eNVfLAWhhxxT3zYUW7PNbPV2jZpsYztjmEkKFr54YkdrtBjAo\r\n",
      "\r\n"
     ]
    }
   ],
   "execution_count": 15
  },
  {
   "metadata": {
    "ExecuteTime": {
     "end_time": "2025-05-30T08:25:34.845367Z",
     "start_time": "2025-05-30T08:25:33.334029Z"
    }
   },
   "cell_type": "code",
   "source": "!solana balance",
   "id": "3d13107abcdee503",
   "outputs": [
    {
     "name": "stdout",
     "output_type": "stream",
     "text": [
      "8.670878523 SOL\r\n"
     ]
    }
   ],
   "execution_count": 16
  },
  {
   "metadata": {},
   "cell_type": "markdown",
   "source": "## Send USDC",
   "id": "3568e018deda324"
  },
  {
   "metadata": {
    "ExecuteTime": {
     "end_time": "2025-05-30T09:11:42.476884Z",
     "start_time": "2025-05-30T09:11:42.474289Z"
    }
   },
   "cell_type": "code",
   "source": "%env USDC_DEVNET=4zMMC9srt5Ri5X14GAgXhaHii3GnPAEERYPJgZJDncDU",
   "id": "3c7b148eced6489b",
   "outputs": [
    {
     "name": "stdout",
     "output_type": "stream",
     "text": [
      "env: USDC_DEVNET=4zMMC9srt5Ri5X14GAgXhaHii3GnPAEERYPJgZJDncDU\n"
     ]
    }
   ],
   "execution_count": 18
  },
  {
   "metadata": {
    "ExecuteTime": {
     "end_time": "2025-05-30T09:12:46.709413Z",
     "start_time": "2025-05-30T09:12:45.279119Z"
    }
   },
   "cell_type": "code",
   "source": "!spl-token address --owner \"$SOLANA_CANISTER_ADDRESS\" --token \"$USDC_DEVNET\" --verbose",
   "id": "53f1555de1827bce",
   "outputs": [
    {
     "name": "stdout",
     "output_type": "stream",
     "text": [
      "Wallet address: G7Tgmmi5y4KMByBULWnu6JHaukszKVQRgqCgVy8bKbPX\r\n",
      "Associated token address: 4TwxHLegFAHR8PPQTVqGWZtsQsoCjqcYinDKjaszPBmF\r\n",
      "\r\n"
     ]
    }
   ],
   "execution_count": 19
  },
  {
   "metadata": {
    "ExecuteTime": {
     "end_time": "2025-05-30T09:15:49.758047Z",
     "start_time": "2025-05-30T09:15:48.281323Z"
    }
   },
   "cell_type": "code",
   "source": "!spl-token balance --owner \"$SOLANA_CANISTER_ADDRESS\" \"$USDC_DEVNET\" --verbose",
   "id": "cb0ccba8be992351",
   "outputs": [
    {
     "name": "stdout",
     "output_type": "stream",
     "text": [
      "ui amount: 10\r\n",
      "decimals: 6\r\n",
      "amount: 10000000\r\n",
      "\r\n"
     ]
    }
   ],
   "execution_count": 21
  },
  {
   "metadata": {},
   "cell_type": "markdown",
   "source": "### Create associated token account",
   "id": "379591cd27f8e30"
  },
  {
   "metadata": {
    "ExecuteTime": {
     "end_time": "2025-05-30T09:41:13.290980Z",
     "start_time": "2025-05-30T09:41:09.556172Z"
    }
   },
   "cell_type": "code",
   "source": "!spl-token create-account \"$USDC_DEVNET\"\n",
   "id": "6d8bd40bf451daa4",
   "outputs": [
    {
     "name": "stdout",
     "output_type": "stream",
     "text": [
      "Creating account DxBUunV9KMgou6STGKHW92cUD9sHBKMqfQfKSDDU1jb3\r\n",
      "\u001B[2K\u001B[32m⠙\u001B[0m Transaction confirmed                                                         \r\n",
      "\u001B[1mSignature:\u001B[0m 3yJsFaJKYaex8hEy1nrSQE3MTLJjQe7La2mn7TcfJrxbv9Dt7H1vvMe9EacwQrmu2zN5bWBai9nZxkyYJArRxMN4\r\n",
      "\r\n"
     ]
    }
   ],
   "execution_count": 32
  },
  {
   "metadata": {
    "ExecuteTime": {
     "end_time": "2025-05-30T09:34:29.722247Z",
     "start_time": "2025-05-30T09:34:28.047987Z"
    }
   },
   "cell_type": "code",
   "source": "!spl-token balance \"$USDC_DEVNET\"",
   "id": "243dfe5f855e6481",
   "outputs": [
    {
     "name": "stdout",
     "output_type": "stream",
     "text": [
      "1.000001\r\n",
      "\r\n"
     ]
    }
   ],
   "execution_count": 25
  }
 ],
 "metadata": {
  "kernelspec": {
   "display_name": "Python 3",
   "language": "python",
   "name": "python3"
  },
  "language_info": {
   "codemirror_mode": {
    "name": "ipython",
    "version": 2
   },
   "file_extension": ".py",
   "mimetype": "text/x-python",
   "name": "python",
   "nbconvert_exporter": "python",
   "pygments_lexer": "ipython2",
   "version": "2.7.6"
  }
 },
 "nbformat": 4,
 "nbformat_minor": 5
}
