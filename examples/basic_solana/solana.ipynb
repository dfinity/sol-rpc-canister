{
 "cells": [
  {
   "metadata": {},
   "cell_type": "markdown",
   "source": "# Solana CLI",
   "id": "4d1f75064ece483f"
  },
  {
   "metadata": {},
   "cell_type": "markdown",
   "source": "## Setup",
   "id": "7ab76ad40e02b29a"
  },
  {
   "metadata": {
    "ExecuteTime": {
     "end_time": "2025-05-30T07:17:52.494695Z",
     "start_time": "2025-05-30T07:17:52.266064Z"
    }
   },
   "cell_type": "code",
   "source": "!solana config get",
   "id": "b5168d3cd0b67556",
   "outputs": [
    {
     "name": "stdout",
     "output_type": "stream",
     "text": [
      "\u001B[1mConfig File:\u001B[0m /Users/greg/.config/solana/cli/config.yml\r\n",
      "\u001B[1mRPC URL:\u001B[0m https://api.devnet.solana.com \u001B[3m\u001B[0m\r\n",
      "\u001B[1mWebSocket URL:\u001B[0m wss://api.devnet.solana.com/ \u001B[3m(computed)\u001B[0m\r\n",
      "\u001B[1mKeypair Path:\u001B[0m /Users/greg/solana/wallet/test/keypair.json \u001B[3m\u001B[0m\r\n",
      "\u001B[1mCommitment:\u001B[0m confirmed \u001B[3m\u001B[0m\r\n"
     ]
    }
   ],
   "execution_count": 2
  },
  {
   "metadata": {
    "ExecuteTime": {
     "end_time": "2025-05-30T07:18:20.647650Z",
     "start_time": "2025-05-30T07:18:20.438777Z"
    }
   },
   "cell_type": "code",
   "source": "!solana address",
   "id": "c4ae0a6071dffea9",
   "outputs": [
    {
     "name": "stdout",
     "output_type": "stream",
     "text": [
      "DTXBMjo6tcosChHeV83Aq6gZuH8K7JYA6EL4ADaMi3Zc\r\n"
     ]
    }
   ],
   "execution_count": 3
  },
  {
   "metadata": {},
   "cell_type": "markdown",
   "source": "## Read Balance",
   "id": "1ed067aa4d7eac85"
  },
  {
   "metadata": {},
   "cell_type": "code",
   "outputs": [
    {
     "name": "stdout",
     "output_type": "stream",
     "text": [
      "8.670883522 SOL\r\n"
     ]
    }
   ],
   "execution_count": 4,
   "source": "!solana balance",
   "id": "cad6c942bbbd328c"
  },
  {
   "metadata": {
    "ExecuteTime": {
     "end_time": "2025-05-30T07:30:55.106770Z",
     "start_time": "2025-05-30T07:30:52.634779Z"
    }
   },
   "cell_type": "code",
   "source": "!solana airdrop 0.1",
   "id": "d5dec8f1d76aeae5",
   "outputs": [
    {
     "name": "stdout",
     "output_type": "stream",
     "text": [
      "Requesting airdrop of 0.1 SOL\r\n",
      "\u001B[2K\u001B[32m⠤\u001B[0m Transaction confirmed                                                         \r\n",
      "\u001B[1mSignature:\u001B[0m 53ALcLtQYKWQR8WL4o4Cgs5KJTEhU99ApYdW352Bd96FeG2H2duUT6SMLvQsjJ386xv1YesRyAEbvLPxXAhmw5Jk\r\n",
      "\r\n",
      "8.770883522 SOL\r\n"
     ]
    }
   ],
   "execution_count": 6
  },
  {
   "metadata": {
    "ExecuteTime": {
     "end_time": "2025-05-30T07:31:12.560701Z",
     "start_time": "2025-05-30T07:31:11.310028Z"
    }
   },
   "cell_type": "code",
   "source": "!solana balance",
   "id": "81177ad61976c1a2",
   "outputs": [
    {
     "name": "stdout",
     "output_type": "stream",
     "text": [
      "8.770883522 SOL\r\n"
     ]
    }
   ],
   "execution_count": 7
  }
 ],
 "metadata": {
  "kernelspec": {
   "display_name": "Python 3",
   "language": "python",
   "name": "python3"
  },
  "language_info": {
   "codemirror_mode": {
    "name": "ipython",
    "version": 2
   },
   "file_extension": ".py",
   "mimetype": "text/x-python",
   "name": "python",
   "nbconvert_exporter": "python",
   "pygments_lexer": "ipython2",
   "version": "2.7.6"
  }
 },
 "nbformat": 4,
 "nbformat_minor": 5
}
