{
 "cells": [
  {
   "metadata": {},
   "cell_type": "markdown",
   "source": "# Solana CLI",
   "id": "4d1f75064ece483f"
  },
  {
   "metadata": {},
   "cell_type": "markdown",
   "source": [
    "## Setup\n",
    "\n",
    "* Install [Solana CLI](https://solana.com/de/docs/intro/installation#install-the-solana-cli)"
   ],
   "id": "e8a48e0a5ab6a7d"
  },
  {
   "metadata": {},
   "cell_type": "code",
   "source": "!solana --version",
   "id": "4429052d4893c605",
   "outputs": [],
   "execution_count": null
  },
  {
   "metadata": {},
   "cell_type": "markdown",
   "source": "## Create a new keypair",
   "id": "7ab76ad40e02b29a"
  },
  {
   "metadata": {},
   "cell_type": "code",
   "source": "!solana-keygen new -o helium_demo.json --no-bip39-passphrase --force",
   "id": "b5168d3cd0b67556",
   "outputs": [],
   "execution_count": null
  },
  {
   "metadata": {},
   "cell_type": "code",
   "source": "!solana config set --keypair ./helium_demo.json\n",
   "id": "669d50b570f62280",
   "outputs": [],
   "execution_count": null
  },
  {
   "metadata": {},
   "cell_type": "code",
   "source": "!solana address",
   "id": "c4ae0a6071dffea9",
   "outputs": [],
   "execution_count": null
  },
  {
   "metadata": {},
   "cell_type": "markdown",
   "source": "## Read Balance",
   "id": "1ed067aa4d7eac85"
  },
  {
   "metadata": {},
   "cell_type": "code",
   "source": "!solana balance",
   "id": "cad6c942bbbd328c",
   "outputs": [],
   "execution_count": null
  },
  {
   "metadata": {},
   "cell_type": "code",
   "source": "!solana airdrop 1",
   "id": "d5dec8f1d76aeae5",
   "outputs": [],
   "execution_count": null
  },
  {
   "metadata": {},
   "cell_type": "code",
   "source": "!solana balance",
   "id": "81177ad61976c1a2",
   "outputs": [],
   "execution_count": null
  },
  {
   "metadata": {},
   "cell_type": "markdown",
   "source": "## Send SOL",
   "id": "6118e6afeca136a2"
  },
  {
   "metadata": {},
   "cell_type": "code",
   "source": "%env SOLANA_CANISTER_ADDRESS=G7Tgmmi5y4KMByBULWnu6JHaukszKVQRgqCgVy8bKbPX",
   "id": "9910f994fb77a7ea",
   "outputs": [],
   "execution_count": null
  },
  {
   "metadata": {},
   "cell_type": "code",
   "source": "!solana transfer \"${SOLANA_CANISTER_ADDRESS}\" 0.1 --allow-unfunded-recipient",
   "id": "f266ee7af9dc2bfc",
   "outputs": [],
   "execution_count": null
  },
  {
   "metadata": {},
   "cell_type": "code",
   "source": "!solana balance",
   "id": "3d13107abcdee503",
   "outputs": [],
   "execution_count": null
  },
  {
   "metadata": {},
   "cell_type": "markdown",
   "source": "## Send USDC",
   "id": "3568e018deda324"
  },
  {
   "metadata": {},
   "cell_type": "code",
   "source": "%env USDC_DEVNET=4zMMC9srt5Ri5X14GAgXhaHii3GnPAEERYPJgZJDncDU",
   "id": "3c7b148eced6489b",
   "outputs": [],
   "execution_count": null
  },
  {
   "metadata": {},
   "cell_type": "code",
   "source": "!spl-token address --owner \"$SOLANA_CANISTER_ADDRESS\" --token \"$USDC_DEVNET\" --verbose",
   "id": "53f1555de1827bce",
   "outputs": [],
   "execution_count": null
  },
  {
   "metadata": {},
   "cell_type": "code",
   "source": "!spl-token balance --owner \"$SOLANA_CANISTER_ADDRESS\" \"$USDC_DEVNET\" --verbose",
   "id": "cb0ccba8be992351",
   "outputs": [],
   "execution_count": null
  },
  {
   "metadata": {},
   "cell_type": "markdown",
   "source": "### Create associated token account",
   "id": "379591cd27f8e30"
  },
  {
   "metadata": {},
   "cell_type": "code",
   "source": "!spl-token create-account \"$USDC_DEVNET\"\n",
   "id": "6d8bd40bf451daa4",
   "outputs": [],
   "execution_count": null
  },
  {
   "metadata": {},
   "cell_type": "code",
   "source": "!spl-token balance \"$USDC_DEVNET\"",
   "id": "243dfe5f855e6481",
   "outputs": [],
   "execution_count": null
  }
 ],
 "metadata": {
  "kernelspec": {
   "display_name": "Python 3",
   "language": "python",
   "name": "python3"
  },
  "language_info": {
   "codemirror_mode": {
    "name": "ipython",
    "version": 2
   },
   "file_extension": ".py",
   "mimetype": "text/x-python",
   "name": "python",
   "nbconvert_exporter": "python",
   "pygments_lexer": "ipython2",
   "version": "2.7.6"
  }
 },
 "nbformat": 4,
 "nbformat_minor": 5
}
