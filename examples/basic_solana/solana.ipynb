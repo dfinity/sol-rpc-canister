{
 "cells": [
  {
   "metadata": {},
   "cell_type": "markdown",
   "source": "# Solana CLI ![Solana logo](https://solana.com/src/img/branding/solanaLogoMark.svg)",
   "id": "4d1f75064ece483f"
  },
  {
   "metadata": {},
   "cell_type": "markdown",
   "source": [
    "## Setup 🛠️\n",
    "\n",
    "* Install [Solana CLI](https://solana.com/en/docs/intro/installation#install-the-solana-cli)"
   ],
   "id": "e8a48e0a5ab6a7d"
  },
  {
   "metadata": {},
   "cell_type": "code",
   "source": "!solana --version",
   "id": "4429052d4893c605",
   "outputs": [],
   "execution_count": null
  },
  {
   "metadata": {},
   "cell_type": "markdown",
   "source": "### Create a new keypair",
   "id": "7ab76ad40e02b29a"
  },
  {
   "metadata": {
    "ExecuteTime": {
     "end_time": "2025-06-02T13:28:03.924082Z",
     "start_time": "2025-06-02T13:28:03.715555Z"
    }
   },
   "cell_type": "code",
   "source": "!solana-keygen new -o helium_demo.json --no-bip39-passphrase --force",
   "id": "b5168d3cd0b67556",
   "outputs": [
    {
     "name": "stdout",
     "output_type": "stream",
     "text": [
      "Generating a new keypair\r\n",
      "Wrote new keypair to helium_demo.json\r\n",
      "==========================================================================\r\n",
      "pubkey: AKQtqmEPrskKBJdDDoT53toeWjdxj4TuVvYUEounWn2X\r\n",
      "==========================================================================\r\n",
      "Save this seed phrase to recover your new keypair:\r\n",
      "horse galaxy catch shoe absorb body method glow taste alcohol have include\r\n",
      "==========================================================================\r\n"
     ]
    }
   ],
   "execution_count": 34
  },
  {
   "metadata": {
    "ExecuteTime": {
     "end_time": "2025-06-02T13:28:06.309770Z",
     "start_time": "2025-06-02T13:28:06.100785Z"
    }
   },
   "cell_type": "code",
   "source": "!solana config set --keypair ./helium_demo.json\n",
   "id": "669d50b570f62280",
   "outputs": [
    {
     "name": "stdout",
     "output_type": "stream",
     "text": [
      "\u001B[1mConfig File:\u001B[0m /Users/greg/.config/solana/cli/config.yml\r\n",
      "\u001B[1mRPC URL:\u001B[0m https://api.devnet.solana.com \u001B[3m\u001B[0m\r\n",
      "\u001B[1mWebSocket URL:\u001B[0m wss://api.devnet.solana.com/ \u001B[3m(computed)\u001B[0m\r\n",
      "\u001B[1mKeypair Path:\u001B[0m ./helium_demo.json \u001B[3m\u001B[0m\r\n",
      "\u001B[1mCommitment:\u001B[0m confirmed \u001B[3m\u001B[0m\r\n"
     ]
    }
   ],
   "execution_count": 35
  },
  {
   "metadata": {
    "ExecuteTime": {
     "end_time": "2025-06-02T13:28:28.065990Z",
     "start_time": "2025-06-02T13:28:27.871628Z"
    }
   },
   "cell_type": "code",
   "source": "!solana address",
   "id": "c4ae0a6071dffea9",
   "outputs": [
    {
     "name": "stdout",
     "output_type": "stream",
     "text": [
      "AKQtqmEPrskKBJdDDoT53toeWjdxj4TuVvYUEounWn2X\r\n"
     ]
    }
   ],
   "execution_count": 36
  },
  {
   "metadata": {},
   "cell_type": "markdown",
   "source": "## Read Balance 🔎",
   "id": "1ed067aa4d7eac85"
  },
  {
   "metadata": {
    "ExecuteTime": {
     "end_time": "2025-06-02T13:29:47.795774Z",
     "start_time": "2025-06-02T13:29:47.109422Z"
    }
   },
   "cell_type": "code",
   "source": "!solana balance",
   "id": "cad6c942bbbd328c",
   "outputs": [
    {
     "name": "stdout",
     "output_type": "stream",
     "text": [
      "0 SOL\r\n"
     ]
    }
   ],
   "execution_count": 38
  },
  {
   "metadata": {
    "ExecuteTime": {
     "end_time": "2025-06-02T13:29:58.542811Z",
     "start_time": "2025-06-02T13:29:54.927163Z"
    }
   },
   "cell_type": "code",
   "source": "!solana airdrop 1",
   "id": "d5dec8f1d76aeae5",
   "outputs": [
    {
     "name": "stdout",
     "output_type": "stream",
     "text": [
      "Requesting airdrop of 1 SOL\r\n",
      "\u001B[2K\u001B[32m⠤\u001B[0m Transaction confirmed                                                         \r\n",
      "\u001B[1mSignature:\u001B[0m 2oNR6KMexz1vweSct7Pi5BvkPaLqZq9KLqWmSAVQbNFqKQm8cAM28ytybGW6YRmxMX15Vu3E8gr5PtFBVd2Lfpoz\r\n",
      "\r\n",
      "1 SOL\r\n"
     ]
    }
   ],
   "execution_count": 39
  },
  {
   "metadata": {
    "ExecuteTime": {
     "end_time": "2025-06-02T13:30:07.309327Z",
     "start_time": "2025-06-02T13:30:06.669616Z"
    }
   },
   "cell_type": "code",
   "source": "!solana balance",
   "id": "81177ad61976c1a2",
   "outputs": [
    {
     "name": "stdout",
     "output_type": "stream",
     "text": [
      "1 SOL\r\n"
     ]
    }
   ],
   "execution_count": 40
  },
  {
   "metadata": {},
   "cell_type": "markdown",
   "source": "## Send SOL 🪙",
   "id": "6118e6afeca136a2"
  },
  {
   "metadata": {
    "ExecuteTime": {
     "end_time": "2025-06-02T13:42:23.836260Z",
     "start_time": "2025-06-02T13:42:23.833819Z"
    }
   },
   "cell_type": "code",
   "source": "%env SOLANA_CANISTER_ADDRESS=D21gL3WgEfm7EMtGyPeb7hhvsW81jPCQnDpsdDTHNuYi",
   "id": "9910f994fb77a7ea",
   "outputs": [
    {
     "name": "stdout",
     "output_type": "stream",
     "text": [
      "env: SOLANA_CANISTER_ADDRESS=D21gL3WgEfm7EMtGyPeb7hhvsW81jPCQnDpsdDTHNuYi\n"
     ]
    }
   ],
   "execution_count": 46
  },
  {
   "metadata": {
    "ExecuteTime": {
     "end_time": "2025-06-02T13:34:55.239533Z",
     "start_time": "2025-06-02T13:34:53.135667Z"
    }
   },
   "cell_type": "code",
   "source": "!solana transfer \"${SOLANA_CANISTER_ADDRESS}\" 0.1 --allow-unfunded-recipient",
   "id": "f266ee7af9dc2bfc",
   "outputs": [
    {
     "name": "stdout",
     "output_type": "stream",
     "text": [
      "\u001B[2K\u001B[32m⠴\u001B[0m Transaction confirmed                                                         \r\n",
      "\u001B[1mSignature:\u001B[0m 5QcHAJDzffWQxDtTtRhYvaB5C1xpciqMCz122pxPyMisSGfowHpSrvGsJrZRTS4ugw9dKFNY3uzNyQtXgMjKaBtJ\r\n",
      "\r\n"
     ]
    }
   ],
   "execution_count": 42
  },
  {
   "metadata": {
    "ExecuteTime": {
     "end_time": "2025-06-02T13:35:01.356443Z",
     "start_time": "2025-06-02T13:35:00.187305Z"
    }
   },
   "cell_type": "code",
   "source": "!solana balance",
   "id": "3d13107abcdee503",
   "outputs": [
    {
     "name": "stdout",
     "output_type": "stream",
     "text": [
      "0.899995 SOL\r\n"
     ]
    }
   ],
   "execution_count": 43
  },
  {
   "metadata": {},
   "cell_type": "markdown",
   "source": "## Send USDC 💰",
   "id": "3568e018deda324"
  },
  {
   "metadata": {
    "ExecuteTime": {
     "end_time": "2025-06-02T13:41:52.938966Z",
     "start_time": "2025-06-02T13:41:52.934049Z"
    }
   },
   "cell_type": "code",
   "source": "%env USDC_DEVNET=4zMMC9srt5Ri5X14GAgXhaHii3GnPAEERYPJgZJDncDU",
   "id": "3c7b148eced6489b",
   "outputs": [
    {
     "name": "stdout",
     "output_type": "stream",
     "text": [
      "env: USDC_DEVNET=4zMMC9srt5Ri5X14GAgXhaHii3GnPAEERYPJgZJDncDU\n"
     ]
    }
   ],
   "execution_count": 44
  },
  {
   "metadata": {
    "ExecuteTime": {
     "end_time": "2025-06-02T13:42:32.799629Z",
     "start_time": "2025-06-02T13:42:32.136312Z"
    }
   },
   "cell_type": "code",
   "source": "!spl-token address --owner \"$SOLANA_CANISTER_ADDRESS\" --token \"$USDC_DEVNET\" --verbose",
   "id": "53f1555de1827bce",
   "outputs": [
    {
     "name": "stdout",
     "output_type": "stream",
     "text": [
      "Wallet address: D21gL3WgEfm7EMtGyPeb7hhvsW81jPCQnDpsdDTHNuYi\r\n",
      "Associated token address: GxBd6VERdQNk9EXXv9yBnBBPD5xZAvBWL3QGtzvCTp9L\r\n",
      "\r\n"
     ]
    }
   ],
   "execution_count": 47
  },
  {
   "metadata": {},
   "cell_type": "code",
   "source": "!spl-token balance --owner \"$SOLANA_CANISTER_ADDRESS\" \"$USDC_DEVNET\" --verbose",
   "id": "cb0ccba8be992351",
   "outputs": [],
   "execution_count": null
  },
  {
   "metadata": {},
   "cell_type": "markdown",
   "source": "### Create associated token account",
   "id": "379591cd27f8e30"
  },
  {
   "metadata": {
    "ExecuteTime": {
     "end_time": "2025-06-02T13:44:03.438023Z",
     "start_time": "2025-06-02T13:44:01.301485Z"
    }
   },
   "cell_type": "code",
   "source": "!spl-token create-account \"$USDC_DEVNET\"\n",
   "id": "6d8bd40bf451daa4",
   "outputs": [
    {
     "name": "stdout",
     "output_type": "stream",
     "text": [
      "Creating account 5ZV5Chisyqg3T5Xht98u16zCeHoWJsiAtREzokNQT9kn\r\n",
      "\u001B[2K\u001B[32m⠙\u001B[0m Transaction confirmed                                                         \r\n",
      "\u001B[1mSignature:\u001B[0m 5x3hyhKpFX6iJVZxmcDPpXW7NqqDwC8nFocQKo9DMSAvU47tyKyHprJp4NVLNwuttVSvuMMLyfAovVyV8wH3a74x\r\n",
      "\r\n"
     ]
    }
   ],
   "execution_count": 48
  },
  {
   "metadata": {
    "ExecuteTime": {
     "end_time": "2025-06-02T13:45:11.986129Z",
     "start_time": "2025-06-02T13:45:11.163566Z"
    }
   },
   "cell_type": "code",
   "source": "!spl-token balance \"$USDC_DEVNET\"",
   "id": "243dfe5f855e6481",
   "outputs": [
    {
     "name": "stdout",
     "output_type": "stream",
     "text": [
      "1\r\n",
      "\r\n"
     ]
    }
   ],
   "execution_count": 49
  }
 ],
 "metadata": {
  "kernelspec": {
   "display_name": "Python 3",
   "language": "python",
   "name": "python3"
  },
  "language_info": {
   "codemirror_mode": {
    "name": "ipython",
    "version": 2
   },
   "file_extension": ".py",
   "mimetype": "text/x-python",
   "name": "python",
   "nbconvert_exporter": "python",
   "pygments_lexer": "ipython2",
   "version": "2.7.6"
  }
 },
 "nbformat": 4,
 "nbformat_minor": 5
}
