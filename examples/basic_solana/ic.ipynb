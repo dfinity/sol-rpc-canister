{
 "cells": [
  {
   "metadata": {},
   "cell_type": "markdown",
   "source": "# Internet Computer",
   "id": "9b799736922a80d0"
  },
  {
   "metadata": {},
   "cell_type": "markdown",
   "source": [
    "## Deploy\n",
    "\n",
    "Deploy `basic_solana` example on mainnet."
   ],
   "id": "cc76aba2e2993339"
  },
  {
   "metadata": {},
   "cell_type": "code",
   "source": "!dfx identity use admin",
   "id": "47bb3cc61a7ec3af",
   "outputs": [],
   "execution_count": null
  },
  {
   "metadata": {},
   "cell_type": "code",
   "source": "!dfx deploy --ic basic_solana",
   "id": "90439aecf49e2672",
   "outputs": [],
   "execution_count": null
  },
  {
   "metadata": {},
   "cell_type": "code",
   "source": "!dfx canister status --ic --all\n",
   "id": "933ff27e6dc8857e",
   "outputs": [],
   "execution_count": null
  },
  {
   "metadata": {},
   "cell_type": "markdown",
   "source": [
    "## Create a new identity\n",
    "Create a new identity, which is not a controller of the `basic_solana` canister, to interact with it."
   ],
   "id": "ade45d34f7e7f13c"
  },
  {
   "metadata": {
    "ExecuteTime": {
     "end_time": "2025-05-30T07:48:58.021685Z",
     "start_time": "2025-05-30T07:48:57.623050Z"
    }
   },
   "cell_type": "code",
   "source": "!dfx identity new helium_demo",
   "id": "dfe0740429cc8558",
   "outputs": [
    {
     "name": "stdout",
     "output_type": "stream",
     "text": [
      "Your seed phrase for identity 'helium_demo': snake apology river letter warrior pool bonus boring sing shed slide arch fix excuse knife abuse monster useless manage anxiety shine urban feel manual\r\n",
      "This can be used to reconstruct your key in case of emergency, so write it down in a safe place.\r\n",
      "\u001B[1mCreated identity: \"helium_demo\".\u001B[m\r\n"
     ]
    }
   ],
   "execution_count": 30
  },
  {
   "metadata": {
    "ExecuteTime": {
     "end_time": "2025-05-30T07:49:01.225089Z",
     "start_time": "2025-05-30T07:49:00.889340Z"
    }
   },
   "cell_type": "code",
   "source": "!dfx identity use helium_demo",
   "id": "3acadb562f621208",
   "outputs": [
    {
     "name": "stdout",
     "output_type": "stream",
     "text": [
      "\u001B[1mUsing identity: \"helium_demo\".\u001B[m\r\n"
     ]
    }
   ],
   "execution_count": 31
  },
  {
   "metadata": {
    "ExecuteTime": {
     "end_time": "2025-05-30T07:49:03.241958Z",
     "start_time": "2025-05-30T07:49:02.890293Z"
    }
   },
   "cell_type": "code",
   "source": "!dfx identity get-principal",
   "id": "6b8053d57272bcea",
   "outputs": [
    {
     "name": "stdout",
     "output_type": "stream",
     "text": [
      "hopjo-r5uca-qhtpi-owytc-7loj3-h2xel-wxdqf-htpwz-7gxq7-rqdlc-vae\r\n"
     ]
    }
   ],
   "execution_count": 32
  },
  {
   "metadata": {
    "ExecuteTime": {
     "end_time": "2025-05-30T08:14:44.090797Z",
     "start_time": "2025-05-30T08:14:44.088280Z"
    }
   },
   "cell_type": "code",
   "source": "%env MY_PRINCIPAL=\"hopjo-r5uca-qhtpi-owytc-7loj3-h2xel-wxdqf-htpwz-7gxq7-rqdlc-vae\"",
   "id": "d964706307194a1b",
   "outputs": [
    {
     "name": "stdout",
     "output_type": "stream",
     "text": [
      "env: MY_PRINCIPAL=\"hopjo-r5uca-qhtpi-owytc-7loj3-h2xel-wxdqf-htpwz-7gxq7-rqdlc-vae\"\n"
     ]
    }
   ],
   "execution_count": 41
  },
  {
   "metadata": {},
   "cell_type": "markdown",
   "source": "## Read Balance",
   "id": "950ff44b4f7baf11"
  },
  {
   "metadata": {
    "ExecuteTime": {
     "end_time": "2025-05-30T07:49:10.159068Z",
     "start_time": "2025-05-30T07:49:10.156127Z"
    }
   },
   "cell_type": "code",
   "source": "%env SOLANA_CLI_ADDRESS=\"DTXBMjo6tcosChHeV83Aq6gZuH8K7JYA6EL4ADaMi3Zc\"",
   "id": "6905c983a5b6e316",
   "outputs": [
    {
     "name": "stdout",
     "output_type": "stream",
     "text": [
      "env: SOLANA_CLI_ADDRESS=\"DTXBMjo6tcosChHeV83Aq6gZuH8K7JYA6EL4ADaMi3Zc\"\n"
     ]
    }
   ],
   "execution_count": 33
  },
  {
   "metadata": {
    "ExecuteTime": {
     "end_time": "2025-05-30T07:49:17.822736Z",
     "start_time": "2025-05-30T07:49:12.704691Z"
    }
   },
   "cell_type": "code",
   "source": "!dfx canister call basic_solana get_balance \"opt (${SOLANA_CLI_ADDRESS})\" --ic\n",
   "id": "f818bb31fcf75fdb",
   "outputs": [
    {
     "name": "stdout",
     "output_type": "stream",
     "text": [
      "(8_770_883_522 : nat)\r\n"
     ]
    }
   ],
   "execution_count": 34
  },
  {
   "metadata": {},
   "cell_type": "markdown",
   "source": [
    "### Explanations\n",
    "\n",
    "* SOL has 9 decimals: 1 SOL == `1_000_000_000` Lamports\n",
    "* [Logs of SOL RPC canister](https://titvo-eiaaa-aaaar-qaogq-cai.raw.icp0.io/logs?sort=desc)\n",
    "    * 3 [HTTPS outcalls](https://support.dfinity.org/hc/en-us/articles/12342341722260-What-is-an-HTTPS-Outcall):\n",
    "        * `solana-devnet.g.alchemy.com`\n",
    "        * `lb.drpc.org`\n",
    "        * `devnet.helius-rpc.com`\n",
    "    * each HTTPS outcall involves each replica in the subnet making an HTTPS request => 34 HTTPs request for the [fiduciary subnet](https://dashboard.internetcomputer.org/subnet/pzp6e-ekpqk-3c5x7-2h6so-njoeq-mt45d-h3h6c-q3mxf-vpeq5-fk5o7-yae)\n",
    "    *  TOTAL: 102 HTTPS requests distributed all-over the world! 💪\n",
    "    * **no single point of failure** 🛡️\n"
   ],
   "id": "7e72e6551b687ea4"
  },
  {
   "metadata": {},
   "cell_type": "markdown",
   "source": [
    "\n",
    "*Request airdrop with Solana CLI*\n"
   ],
   "id": "4d439a41723cb50a"
  },
  {
   "metadata": {
    "ExecuteTime": {
     "end_time": "2025-05-30T07:32:11.412210Z",
     "start_time": "2025-05-30T07:32:01.870867Z"
    }
   },
   "cell_type": "code",
   "source": "!dfx canister call basic_solana get_balance \"opt (${SOLANA_CLI_ADDRESS})\" --ic\n",
   "id": "37e7a268354da808",
   "outputs": [
    {
     "name": "stdout",
     "output_type": "stream",
     "text": [
      "(8_770_883_522 : nat)\r\n"
     ]
    }
   ],
   "execution_count": 28
  },
  {
   "metadata": {},
   "cell_type": "markdown",
   "source": [
    "## Send SOL\n",
    "\n",
    "* Canister can control an Ed25519 public/private key pair thanks to [threshold Schnorr](https://internetcomputer.org/docs/building-apps/network-features/signatures/t-schnorr/).\n",
    "    * Each replica holds a share of a secret key\n",
    "    * Each replica can use its share to create a signature share for a given message\n",
    "    * Combining enough signature shares result in a standard signature for that message\n",
    "    * ℹ️ At no moment is the secret key reconstructed."
   ],
   "id": "db7c8ee31edeaf4f"
  },
  {
   "metadata": {},
   "cell_type": "markdown",
   "source": "### Fund address",
   "id": "5a32f7677f8c4e5d"
  },
  {
   "metadata": {
    "ExecuteTime": {
     "end_time": "2025-05-30T07:58:19.030337Z",
     "start_time": "2025-05-30T07:58:12.041508Z"
    }
   },
   "cell_type": "code",
   "source": "!dfx canister call basic_solana solana_account --ic",
   "id": "fba18a248599311c",
   "outputs": [
    {
     "name": "stdout",
     "output_type": "stream",
     "text": [
      "(\"G7Tgmmi5y4KMByBULWnu6JHaukszKVQRgqCgVy8bKbPX\")\r\n"
     ]
    }
   ],
   "execution_count": 35
  },
  {
   "metadata": {
    "ExecuteTime": {
     "end_time": "2025-05-30T07:59:01.608239Z",
     "start_time": "2025-05-30T07:59:01.605494Z"
    }
   },
   "cell_type": "code",
   "source": "%env SOLANA_CANISTER_ADDRESS=\"G7Tgmmi5y4KMByBULWnu6JHaukszKVQRgqCgVy8bKbPX\"",
   "id": "ee663067afdfcb92",
   "outputs": [
    {
     "name": "stdout",
     "output_type": "stream",
     "text": [
      "env: SOLANA_CANISTER_ADDRESS=\"G7Tgmmi5y4KMByBULWnu6JHaukszKVQRgqCgVy8bKbPX\"\n"
     ]
    }
   ],
   "execution_count": 36
  },
  {
   "metadata": {
    "ExecuteTime": {
     "end_time": "2025-05-30T08:05:01.365633Z",
     "start_time": "2025-05-30T08:04:51.340631Z"
    }
   },
   "cell_type": "code",
   "source": "!dfx canister call basic_solana get_balance --ic",
   "id": "f63e33d39560eede",
   "outputs": [
    {
     "name": "stdout",
     "output_type": "stream",
     "text": [
      "(100_000_000 : nat)\r\n"
     ]
    }
   ],
   "execution_count": 37
  },
  {
   "metadata": {},
   "cell_type": "markdown",
   "source": "*Fund address via Solana CLI*",
   "id": "c887f9876e67a293"
  },
  {
   "metadata": {
    "ExecuteTime": {
     "end_time": "2025-05-30T08:10:32.153372Z",
     "start_time": "2025-05-30T08:10:22.240207Z"
    }
   },
   "cell_type": "code",
   "source": "!dfx canister call basic_solana get_balance --ic\n",
   "id": "64bd6f8d228e17c2",
   "outputs": [
    {
     "name": "stdout",
     "output_type": "stream",
     "text": [
      "(100_000_000 : nat)\r\n"
     ]
    }
   ],
   "execution_count": 38
  },
  {
   "metadata": {},
   "cell_type": "markdown",
   "source": [
    "### Send transaction\n",
    "\n",
    "Send transaction of 1 Lamport back to Solana CLI address"
   ],
   "id": "d1b2a4364c22aded"
  },
  {
   "metadata": {
    "ExecuteTime": {
     "end_time": "2025-05-30T08:16:21.415514Z",
     "start_time": "2025-05-30T08:16:05.124188Z"
    }
   },
   "cell_type": "code",
   "source": "!dfx canister call basic_solana send_sol \"(opt principal $MY_PRINCIPAL, $SOLANA_CLI_ADDRESS, 1 : nat)\" --ic",
   "id": "96d7c714d8129b80",
   "outputs": [
    {
     "name": "stdout",
     "output_type": "stream",
     "text": [
      "(\r\n",
      "  \"5EiYrSeDuc4TcQe67PoGdTaMf2tGqZt1rusmF4kpegpuoer78qfNhLyf25dSkZMiDDqPHCBAtkiCrfhmGuLsV9uz\",\r\n",
      ")\r\n"
     ]
    }
   ],
   "execution_count": 43
  },
  {
   "metadata": {},
   "cell_type": "markdown",
   "source": [
    "Check transaction on [Solana explorer](https://explorer.solana.com/?cluster=devnet):\n",
    "* nothing distinguishes a transaction signed via threshold Ed25529 from a regular transaction\n",
    "* address controlled by the canister also paid the transaction fee"
   ],
   "id": "6a11d61cbf9758e7"
  },
  {
   "metadata": {},
   "cell_type": "code",
   "outputs": [
    {
     "name": "stdout",
     "output_type": "stream",
     "text": [
      "(99_994_999 : nat)\r\n"
     ]
    }
   ],
   "execution_count": 44,
   "source": "!dfx canister call basic_solana get_balance --ic\n",
   "id": "89021b29c9bb94bb"
  },
  {
   "metadata": {},
   "cell_type": "markdown",
   "source": [
    "* 1 major difficulty is getting a recent blockhash that must be part of the transaction.\n",
    "* See the [code](https://github.com/dfinity/sol-rpc-canister/blob/8e7e32f50a2e05fa671a3df8f7b19f64c5abbdce/examples/basic_solana/src/main.rs#L226) for more details."
   ],
   "id": "ad8ada2baf139e5e"
  },
  {
   "metadata": {},
   "cell_type": "markdown",
   "source": [
    "## Send USDC\n",
    "\n",
    "Send 1 USDC from addressed controlled by canister to my Solana CLI wallet"
   ],
   "id": "dea32c9a6a438045"
  },
  {
   "metadata": {},
   "cell_type": "markdown",
   "source": [
    "### Fund address controlled by canister\n",
    "\n",
    "* USDC devnet: [4zMMC9srt5Ri5X14GAgXhaHii3GnPAEERYPJgZJDncDU](https://explorer.solana.com/address/4zMMC9srt5Ri5X14GAgXhaHii3GnPAEERYPJgZJDncDU?cluster=devnet)\n",
    "* USDC [faucet](https://faucet.circle.com/)"
   ],
   "id": "82e6aab698f48a41"
  },
  {
   "metadata": {},
   "cell_type": "code",
   "outputs": [
    {
     "name": "stdout",
     "output_type": "stream",
     "text": [
      "env: USDC_DEVNET=\"4zMMC9srt5Ri5X14GAgXhaHii3GnPAEERYPJgZJDncDU\"\n"
     ]
    }
   ],
   "execution_count": 45,
   "source": "%env USDC_DEVNET=\"4zMMC9srt5Ri5X14GAgXhaHii3GnPAEERYPJgZJDncDU\"",
   "id": "13581fcd6325accb"
  },
  {
   "metadata": {
    "ExecuteTime": {
     "end_time": "2025-05-30T09:09:37.699562Z",
     "start_time": "2025-05-30T09:09:31.883286Z"
    }
   },
   "cell_type": "code",
   "source": "!dfx canister call basic_solana associated_token_account \"(opt principal $MY_PRINCIPAL, $USDC_DEVNET)\" --ic\n",
   "id": "4613c762e5ed9cc4",
   "outputs": [
    {
     "name": "stdout",
     "output_type": "stream",
     "text": [
      "(\"4TwxHLegFAHR8PPQTVqGWZtsQsoCjqcYinDKjaszPBmF\")\r\n"
     ]
    }
   ],
   "execution_count": 47
  },
  {
   "metadata": {
    "ExecuteTime": {
     "end_time": "2025-05-30T09:22:28.291773Z",
     "start_time": "2025-05-30T09:22:11.431619Z"
    }
   },
   "cell_type": "code",
   "source": "!dfx canister call basic_solana get_spl_token_balance \"(null, $USDC_DEVNET)\" --ic\n",
   "id": "23aa999b0a9ba9f3",
   "outputs": [
    {
     "name": "stdout",
     "output_type": "stream",
     "text": [
      "(\r\n",
      "  record {\r\n",
      "    decimals = 6 : nat8;\r\n",
      "    uiAmount = opt (10.0 : float64);\r\n",
      "    uiAmountString = \"10\";\r\n",
      "    amount = \"10000000\";\r\n",
      "  },\r\n",
      ")\r\n"
     ]
    }
   ],
   "execution_count": 51
  },
  {
   "metadata": {
    "ExecuteTime": {
     "end_time": "2025-05-30T09:33:58.419537Z",
     "start_time": "2025-05-30T09:33:37.046768Z"
    }
   },
   "cell_type": "code",
   "source": "!dfx canister call basic_solana send_spl_token \"(opt principal $MY_PRINCIPAL, $USDC_DEVNET, $SOLANA_CLI_ADDRESS, 1_000_000 : nat)\" --ic",
   "id": "27ee5f636fe2b26e",
   "outputs": [
    {
     "name": "stdout",
     "output_type": "stream",
     "text": [
      "(\r\n",
      "  \"5RCxoPgR1XeUctX2a7GyW64TVpQNggnCtRKRrPfLpB7A2QYSAP25EWq1YKUcFKQx3pyxMpk98MzG4VdMUPPUNWFH\",\r\n",
      ")\r\n"
     ]
    }
   ],
   "execution_count": 52
  }
 ],
 "metadata": {
  "kernelspec": {
   "display_name": "Python 3",
   "language": "python",
   "name": "python3"
  },
  "language_info": {
   "codemirror_mode": {
    "name": "ipython",
    "version": 2
   },
   "file_extension": ".py",
   "mimetype": "text/x-python",
   "name": "python",
   "nbconvert_exporter": "python",
   "pygments_lexer": "ipython2",
   "version": "2.7.6"
  }
 },
 "nbformat": 4,
 "nbformat_minor": 5
}
