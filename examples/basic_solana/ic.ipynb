{
 "cells": [
  {
   "metadata": {},
   "cell_type": "markdown",
   "source": "# Internet Computer",
   "id": "9b799736922a80d0"
  },
  {
   "metadata": {},
   "cell_type": "markdown",
   "source": [
    "## Setup\n",
    "* Install [dfx](https://internetcomputer.org/docs/building-apps/getting-started/install#installing-dfx-via-dfxvm)\n",
    "* Checkout the `basic_solana` example\n",
    "    ```\n",
    "    git clone git@github.com:dfinity/sol-rpc-canister.git\n",
    "    cd sol-rpc-canister/examples/basic_solana\n",
    "    ```"
   ],
   "id": "68c6c1538ad0c86"
  },
  {
   "metadata": {
    "ExecuteTime": {
     "end_time": "2025-05-30T09:47:36.408563Z",
     "start_time": "2025-05-30T09:47:31.175174Z"
    }
   },
   "cell_type": "code",
   "source": "!dfx --version",
   "id": "3ccd29519db83a93",
   "outputs": [
    {
     "name": "stdout",
     "output_type": "stream",
     "text": [
      "dfx 0.26.1\r\n"
     ]
    }
   ],
   "execution_count": 53
  },
  {
   "metadata": {
    "ExecuteTime": {
     "end_time": "2025-05-30T09:47:51.188083Z",
     "start_time": "2025-05-30T09:47:51.001670Z"
    }
   },
   "cell_type": "code",
   "source": "!pwd",
   "id": "9e204a7f1813e2a2",
   "outputs": [
    {
     "name": "stdout",
     "output_type": "stream",
     "text": [
      "/Users/greg/git/sol-rpc-canister/examples/basic_solana\r\n"
     ]
    }
   ],
   "execution_count": 54
  },
  {
   "metadata": {},
   "cell_type": "markdown",
   "source": [
    "## Deploy\n",
    "\n",
    "Deploy `basic_solana` example on mainnet."
   ],
   "id": "cc76aba2e2993339"
  },
  {
   "metadata": {
    "ExecuteTime": {
     "end_time": "2025-05-30T09:48:17.998469Z",
     "start_time": "2025-05-30T09:48:17.652049Z"
    }
   },
   "cell_type": "code",
   "source": "!dfx identity use admin",
   "id": "47bb3cc61a7ec3af",
   "outputs": [
    {
     "name": "stdout",
     "output_type": "stream",
     "text": [
      "\u001B[1mUsing identity: \"admin\".\u001B[m\r\n"
     ]
    }
   ],
   "execution_count": 55
  },
  {
   "metadata": {
    "ExecuteTime": {
     "end_time": "2025-05-30T09:48:22.533705Z",
     "start_time": "2025-05-30T09:48:19.440114Z"
    }
   },
   "cell_type": "code",
   "source": "!dfx deploy --ic basic_solana",
   "id": "90439aecf49e2672",
   "outputs": [
    {
     "name": "stdout",
     "output_type": "stream",
     "text": [
      "\u001B[1mDeploying: basic_solana\u001B[m\r\n",
      "\u001B[1mAll canisters have already been created.\u001B[m\r\n",
      "\u001B[2K\u001B[1mBuilding canister 'basic_solana'.\u001B[m                                        \r\n",
      "\u001B[2K\u001B[1m\u001B[32m\u001B[1mExecuting\u001B[0m 'cargo build --no-default-features --target wasm32-unknown-unknown --release'\u001B[m\r\n",
      "\u001B[2Kilding canisters...                                                         \u001B[1m\u001B[32m    Finished\u001B[0m `release` profile [optimized] target(s) in 1.47s\r\n",
      "\u001B[2K⠙ Installing canisters...                                                       \r\n",
      "\u001B[2K\u001B[2A⠙ Installing canisters...ic_solana, with canister ID vond4-2qaaa-aaaar-qbmiq-cai                                                                        \u001B[2A\r\n",
      "\u001B[2K\u001B[2A⠚ Installing canisters...ic_solana, with canister ID vond4-2qaaa-aaaar-qbmiq-cai                                                                        \u001B[2A\r\n",
      "\u001B[2K\u001B[2A⠚ Installing canisters...ic_solana, with canister ID vond4-2qaaa-aaaar-qbmiq-cai                                                                        \u001B[2A\r\n",
      "\u001B[2K\u001B[2A⠒ Installing canisters...ic_solana, with canister ID vond4-2qaaa-aaaar-qbmiq-cai                                                                        \u001B[2A\r\n",
      "\u001B[2K\u001B[2A⠒ Installing canisters...ic_solana, with canister ID vond4-2qaaa-aaaar-qbmiq-cai                                                                        \u001B[2A\r\n",
      "\u001B[2K\u001B[2A\u001B[1mModule hash 4ae0c236e7b5bec153f527c6b291088af48e202d5eb154f8d9423e0005bcf160 is already installed.\u001B[m                                               \u001B[2A\r\n",
      "⠒ Installing canisters...\r\n",
      "\u001B[2K\u001B[1mUpgraded code for canister basic_solana, with canister ID vond4-2qaaa-aaaar-qbmiq-cai\u001B[m                                                                \u001B[2A\r\n",
      "\u001B[2K\u001B[1mDeployed canisters.\u001B[m                                                  \r\n",
      "\u001B[1mURLs:\u001B[m\r\n",
      "\u001B[1m  Backend canister via Candid interface:\u001B[m\r\n",
      "\u001B[1m    basic_solana: \u001B[32mhttps://a4gq6-oaaaa-aaaab-qaa4q-cai.raw.icp0.io/?id=vond4-2qaaa-aaaar-qbmiq-cai\u001B[0m\u001B[m\r\n"
     ]
    }
   ],
   "execution_count": 56
  },
  {
   "metadata": {
    "ExecuteTime": {
     "end_time": "2025-05-30T09:48:27.815525Z",
     "start_time": "2025-05-30T09:48:25.749800Z"
    }
   },
   "cell_type": "code",
   "source": "!dfx canister status --ic --all",
   "id": "933ff27e6dc8857e",
   "outputs": [
    {
     "name": "stdout",
     "output_type": "stream",
     "text": [
      "Canister status call result for basic_solana.\r\n",
      "Status: Running\r\n",
      "Controllers: 4nct6-qlari-qhlgv-qkhdd-5hak6-gtdms-ra2ya-gi7qq-2lref-zg34x-bqe ezu3d-2mifu-k3bh4-oqhrj-mbrql-5p67r-pp6pr-dbfra-unkx5-sxdtv-rae mf7xa-laaaa-aaaar-qaaaa-cai\r\n",
      "Memory allocation: 0 Bytes\r\n",
      "Compute allocation: 0 %\r\n",
      "Freezing threshold: 2_592_000 Seconds\r\n",
      "Idle cycles burned per day: 67_686_185 Cycles\r\n",
      "Memory Size: 2_532_485 Bytes\r\n",
      "Balance: 6_890_311_679_322 Cycles\r\n",
      "Reserved: 0 Cycles\r\n",
      "Reserved cycles limit: 5_000_000_000_000 Cycles\r\n",
      "Wasm memory limit: 3_221_225_472 Bytes\r\n",
      "Wasm memory threshold: 0 Bytes\r\n",
      "Module hash: 0x4ae0c236e7b5bec153f527c6b291088af48e202d5eb154f8d9423e0005bcf160\r\n",
      "Number of queries: 0\r\n",
      "Instructions spent in queries: 0\r\n",
      "Total query request payload size: 0 Bytes\r\n",
      "Total query response payload size: 0 Bytes\r\n",
      "Log visibility: controllers\r\n"
     ]
    }
   ],
   "execution_count": 57
  },
  {
   "metadata": {},
   "cell_type": "markdown",
   "source": [
    "## Create a new identity\n",
    "Create a new identity, which is not a controller of the `basic_solana` canister, to interact with it."
   ],
   "id": "ade45d34f7e7f13c"
  },
  {
   "metadata": {},
   "cell_type": "code",
   "source": "!dfx identity new helium_demo",
   "id": "dfe0740429cc8558",
   "outputs": [],
   "execution_count": null
  },
  {
   "metadata": {},
   "cell_type": "code",
   "source": "!dfx identity use helium_demo",
   "id": "3acadb562f621208",
   "outputs": [],
   "execution_count": null
  },
  {
   "metadata": {},
   "cell_type": "code",
   "source": "!dfx identity get-principal",
   "id": "6b8053d57272bcea",
   "outputs": [],
   "execution_count": null
  },
  {
   "metadata": {},
   "cell_type": "code",
   "source": "%env MY_PRINCIPAL=\"hopjo-r5uca-qhtpi-owytc-7loj3-h2xel-wxdqf-htpwz-7gxq7-rqdlc-vae\"",
   "id": "d964706307194a1b",
   "outputs": [],
   "execution_count": null
  },
  {
   "metadata": {},
   "cell_type": "markdown",
   "source": "## Read Balance",
   "id": "950ff44b4f7baf11"
  },
  {
   "metadata": {},
   "cell_type": "code",
   "source": "%env SOLANA_CLI_ADDRESS=\"DTXBMjo6tcosChHeV83Aq6gZuH8K7JYA6EL4ADaMi3Zc\"",
   "id": "6905c983a5b6e316",
   "outputs": [],
   "execution_count": null
  },
  {
   "metadata": {},
   "cell_type": "code",
   "source": "!dfx canister call basic_solana get_balance \"opt (${SOLANA_CLI_ADDRESS})\" --ic\n",
   "id": "f818bb31fcf75fdb",
   "outputs": [],
   "execution_count": null
  },
  {
   "metadata": {},
   "cell_type": "markdown",
   "source": [
    "### Explanations\n",
    "\n",
    "* SOL has 9 decimals: 1 SOL == `1_000_000_000` Lamports\n",
    "* [Logs of SOL RPC canister](https://titvo-eiaaa-aaaar-qaogq-cai.raw.icp0.io/logs?sort=desc)\n",
    "    * 3 [HTTPS outcalls](https://support.dfinity.org/hc/en-us/articles/12342341722260-What-is-an-HTTPS-Outcall):\n",
    "        * `solana-devnet.g.alchemy.com`\n",
    "        * `lb.drpc.org`\n",
    "        * `devnet.helius-rpc.com`\n",
    "    * each HTTPS outcall involves each replica in the subnet making an HTTPS request => 34 HTTPs request for the [fiduciary subnet](https://dashboard.internetcomputer.org/subnet/pzp6e-ekpqk-3c5x7-2h6so-njoeq-mt45d-h3h6c-q3mxf-vpeq5-fk5o7-yae)\n",
    "    *  TOTAL: 102 HTTPS requests distributed all-over the world! 💪\n",
    "    * **no single point of failure** 🛡️\n"
   ],
   "id": "7e72e6551b687ea4"
  },
  {
   "metadata": {},
   "cell_type": "markdown",
   "source": [
    "\n",
    "*Request airdrop with Solana CLI*\n"
   ],
   "id": "4d439a41723cb50a"
  },
  {
   "metadata": {},
   "cell_type": "code",
   "source": "!dfx canister call basic_solana get_balance \"opt (${SOLANA_CLI_ADDRESS})\" --ic\n",
   "id": "37e7a268354da808",
   "outputs": [],
   "execution_count": null
  },
  {
   "metadata": {},
   "cell_type": "markdown",
   "source": [
    "## Send SOL\n",
    "\n",
    "* Canister can control an Ed25519 public/private key pair thanks to [threshold Schnorr](https://internetcomputer.org/docs/building-apps/network-features/signatures/t-schnorr/).\n",
    "    * Each replica holds a share of a secret key\n",
    "    * Each replica can use its share to create a signature share for a given message\n",
    "    * Combining enough signature shares result in a standard signature for that message\n",
    "    * ℹ️ At no moment is the secret key reconstructed."
   ],
   "id": "db7c8ee31edeaf4f"
  },
  {
   "metadata": {},
   "cell_type": "markdown",
   "source": "### Fund address",
   "id": "5a32f7677f8c4e5d"
  },
  {
   "metadata": {},
   "cell_type": "code",
   "source": "!dfx canister call basic_solana solana_account --ic",
   "id": "fba18a248599311c",
   "outputs": [],
   "execution_count": null
  },
  {
   "metadata": {},
   "cell_type": "code",
   "source": "%env SOLANA_CANISTER_ADDRESS=\"G7Tgmmi5y4KMByBULWnu6JHaukszKVQRgqCgVy8bKbPX\"",
   "id": "ee663067afdfcb92",
   "outputs": [],
   "execution_count": null
  },
  {
   "metadata": {},
   "cell_type": "code",
   "source": "!dfx canister call basic_solana get_balance --ic",
   "id": "f63e33d39560eede",
   "outputs": [],
   "execution_count": null
  },
  {
   "metadata": {},
   "cell_type": "markdown",
   "source": "*Fund address via Solana CLI*",
   "id": "c887f9876e67a293"
  },
  {
   "metadata": {},
   "cell_type": "code",
   "source": "!dfx canister call basic_solana get_balance --ic\n",
   "id": "64bd6f8d228e17c2",
   "outputs": [],
   "execution_count": null
  },
  {
   "metadata": {},
   "cell_type": "markdown",
   "source": [
    "### Send transaction\n",
    "\n",
    "Send transaction of 1 Lamport back to Solana CLI address"
   ],
   "id": "d1b2a4364c22aded"
  },
  {
   "metadata": {},
   "cell_type": "code",
   "source": "!dfx canister call basic_solana send_sol \"(opt principal $MY_PRINCIPAL, $SOLANA_CLI_ADDRESS, 1 : nat)\" --ic",
   "id": "96d7c714d8129b80",
   "outputs": [],
   "execution_count": null
  },
  {
   "metadata": {},
   "cell_type": "markdown",
   "source": [
    "Check transaction on [Solana explorer](https://explorer.solana.com/?cluster=devnet):\n",
    "* nothing distinguishes a transaction signed via threshold Ed25529 from a regular transaction\n",
    "* address controlled by the canister also paid the transaction fee"
   ],
   "id": "6a11d61cbf9758e7"
  },
  {
   "metadata": {},
   "cell_type": "code",
   "source": "!dfx canister call basic_solana get_balance --ic\n",
   "id": "89021b29c9bb94bb",
   "outputs": [],
   "execution_count": null
  },
  {
   "metadata": {},
   "cell_type": "markdown",
   "source": [
    "* 1 major difficulty is getting a recent blockhash that must be part of the transaction.\n",
    "* See the [code](https://github.com/dfinity/sol-rpc-canister/blob/8e7e32f50a2e05fa671a3df8f7b19f64c5abbdce/examples/basic_solana/src/main.rs#L226) for more details."
   ],
   "id": "ad8ada2baf139e5e"
  },
  {
   "metadata": {},
   "cell_type": "markdown",
   "source": [
    "## Send USDC\n",
    "\n",
    "Send 1 USDC from addressed controlled by canister to my Solana CLI wallet"
   ],
   "id": "dea32c9a6a438045"
  },
  {
   "metadata": {},
   "cell_type": "markdown",
   "source": [
    "### Fund address controlled by canister\n",
    "\n",
    "* USDC devnet: [4zMMC9srt5Ri5X14GAgXhaHii3GnPAEERYPJgZJDncDU](https://explorer.solana.com/address/4zMMC9srt5Ri5X14GAgXhaHii3GnPAEERYPJgZJDncDU?cluster=devnet)\n",
    "* USDC [faucet](https://faucet.circle.com/)"
   ],
   "id": "82e6aab698f48a41"
  },
  {
   "metadata": {},
   "cell_type": "code",
   "source": "%env USDC_DEVNET=\"4zMMC9srt5Ri5X14GAgXhaHii3GnPAEERYPJgZJDncDU\"",
   "id": "13581fcd6325accb",
   "outputs": [],
   "execution_count": null
  },
  {
   "metadata": {},
   "cell_type": "code",
   "source": "!dfx canister call basic_solana associated_token_account \"(opt principal $MY_PRINCIPAL, $USDC_DEVNET)\" --ic\n",
   "id": "4613c762e5ed9cc4",
   "outputs": [],
   "execution_count": null
  },
  {
   "metadata": {},
   "cell_type": "code",
   "source": "!dfx canister call basic_solana get_spl_token_balance \"(null, $USDC_DEVNET)\" --ic\n",
   "id": "23aa999b0a9ba9f3",
   "outputs": [],
   "execution_count": null
  },
  {
   "metadata": {},
   "cell_type": "code",
   "source": "!dfx canister call basic_solana send_spl_token \"(opt principal $MY_PRINCIPAL, $USDC_DEVNET, $SOLANA_CLI_ADDRESS, 1_000_000 : nat)\" --ic",
   "id": "27ee5f636fe2b26e",
   "outputs": [],
   "execution_count": null
  }
 ],
 "metadata": {
  "kernelspec": {
   "display_name": "Python 3",
   "language": "python",
   "name": "python3"
  },
  "language_info": {
   "codemirror_mode": {
    "name": "ipython",
    "version": 2
   },
   "file_extension": ".py",
   "mimetype": "text/x-python",
   "name": "python",
   "nbconvert_exporter": "python",
   "pygments_lexer": "ipython2",
   "version": "2.7.6"
  }
 },
 "nbformat": 4,
 "nbformat_minor": 5
}
