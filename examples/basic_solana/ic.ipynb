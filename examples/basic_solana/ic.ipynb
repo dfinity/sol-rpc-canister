{
 "cells": [
  {
   "metadata": {},
   "cell_type": "markdown",
   "source": "# Internet Computer ![ICP logo](https://cdn-assets-eu.frontify.com/s3/frontify-enterprise-files-eu/eyJwYXRoIjoiZGZpbml0eVwvZmlsZVwvQ3ZFa3Y5eFhQOGQ3dW83ZkxFMmkucG5nIn0:dfinity:WGPFvOEBt8LexZ0568duC01k5g99_6IN-Ju8n3WvJhE?width=115&format=webp&quality=100)",
   "id": "9b799736922a80d0"
  },
  {
   "metadata": {},
   "cell_type": "markdown",
   "source": [
    "## Setup 🛠️\n",
    "* Install [Rust](https://www.rust-lang.org/tools/install)\n",
    "* Install [dfx](https://internetcomputer.org/docs/building-apps/getting-started/install#installing-dfx-via-dfxvm)\n",
    "* Checkout the `basic_solana` example\n",
    "    ```\n",
    "    git clone git@github.com:dfinity/sol-rpc-canister.git\n",
    "    cd sol-rpc-canister/examples/basic_solana\n",
    "    ```"
   ],
   "id": "68c6c1538ad0c86"
  },
  {
   "metadata": {},
   "cell_type": "code",
   "source": "!dfx --version",
   "id": "3ccd29519db83a93",
   "outputs": [],
   "execution_count": null
  },
  {
   "metadata": {},
   "cell_type": "code",
   "source": "!pwd",
   "id": "9e204a7f1813e2a2",
   "outputs": [],
   "execution_count": null
  },
  {
   "metadata": {},
   "cell_type": "markdown",
   "source": [
    "### Deploy\n",
    "\n",
    "* Deploy `basic_solana` example on mainnet.\n"
   ],
   "id": "cc76aba2e2993339"
  },
  {
   "metadata": {},
   "cell_type": "markdown",
   "source": "![Setup](./helium_demo_setup.png)",
   "id": "a11c4dd86244cdb"
  },
  {
   "metadata": {},
   "cell_type": "code",
   "source": "!dfx identity use admin",
   "id": "47bb3cc61a7ec3af",
   "outputs": [],
   "execution_count": null
  },
  {
   "metadata": {},
   "cell_type": "code",
   "source": [
    "!dfx deploy --ic basic_solana --argument '(\\\n",
    "    record {\\\n",
    "        solana_commitment_level = opt variant { confirmed };\\\n",
    "        ed25519_key_name = opt variant { MainnetTestKey1 };\\\n",
    "        solana_network = opt variant { Devnet };\\\n",
    "        sol_rpc_canister_id = opt principal \"titvo-eiaaa-aaaar-qaogq-cai\";\\\n",
    "        }\\\n",
    ")'"
   ],
   "id": "90439aecf49e2672",
   "outputs": [],
   "execution_count": null
  },
  {
   "metadata": {},
   "cell_type": "code",
   "source": "!dfx canister status --ic --all",
   "id": "933ff27e6dc8857e",
   "outputs": [],
   "execution_count": null
  },
  {
   "metadata": {},
   "cell_type": "markdown",
   "source": [
    "### Create a new identity\n",
    "Create a new identity, which is not a controller of the `basic_solana` canister, to interact with it."
   ],
   "id": "ade45d34f7e7f13c"
  },
  {
   "metadata": {},
   "cell_type": "code",
   "source": "!dfx identity new helium_demo",
   "id": "dfe0740429cc8558",
   "outputs": [],
   "execution_count": null
  },
  {
   "metadata": {},
   "cell_type": "code",
   "source": "!dfx identity use helium_demo",
   "id": "3acadb562f621208",
   "outputs": [],
   "execution_count": null
  },
  {
   "metadata": {},
   "cell_type": "code",
   "source": "!dfx identity get-principal",
   "id": "6b8053d57272bcea",
   "outputs": [],
   "execution_count": null
  },
  {
   "metadata": {},
   "cell_type": "code",
   "source": "%env MY_PRINCIPAL=\"2oyh2-miczk-rzcqm-zbkes-q3kyi-lmen7-slvvl-byown-zz6v6-razzx-vae\"",
   "id": "d964706307194a1b",
   "outputs": [],
   "execution_count": null
  },
  {
   "metadata": {},
   "cell_type": "markdown",
   "source": "## Read Balance 🔎",
   "id": "950ff44b4f7baf11"
  },
  {
   "metadata": {},
   "cell_type": "code",
   "source": "%env SOLANA_CLI_ADDRESS=\"AhwdjZNRkqXeRfujdBnVqC8oe9kdpDKDM6efioKq1dBZ\"",
   "id": "6905c983a5b6e316",
   "outputs": [],
   "execution_count": null
  },
  {
   "metadata": {},
   "cell_type": "code",
   "source": "!dfx canister call basic_solana get_balance \"opt (${SOLANA_CLI_ADDRESS})\" --ic",
   "id": "f818bb31fcf75fdb",
   "outputs": [],
   "execution_count": null
  },
  {
   "metadata": {},
   "cell_type": "markdown",
   "source": [
    "### ℹ️ Explanations\n",
    "\n",
    "* SOL has 9 decimals: 1 SOL == `1_000_000_000` Lamports\n",
    "* [Logs of SOL RPC canister](https://titvo-eiaaa-aaaar-qaogq-cai.raw.icp0.io/logs?sort=desc)\n",
    "    * 3 [HTTPS outcalls](https://support.dfinity.org/hc/en-us/articles/12342341722260-What-is-an-HTTPS-Outcall):\n",
    "        * `solana-devnet.g.alchemy.com`\n",
    "        * `lb.drpc.org`\n",
    "        * `devnet.helius-rpc.com`\n",
    "    * each HTTPS outcall involves each replica in the subnet making an HTTPS request => 34 HTTPs request for the [fiduciary subnet](https://dashboard.internetcomputer.org/subnet/pzp6e-ekpqk-3c5x7-2h6so-njoeq-mt45d-h3h6c-q3mxf-vpeq5-fk5o7-yae)\n",
    "    *  TOTAL: 102 HTTPS requests distributed all-over the world! 💪\n",
    "    * **no single point of failure** 🛡️\n"
   ],
   "id": "7e72e6551b687ea4"
  },
  {
   "metadata": {},
   "cell_type": "markdown",
   "source": [
    "\n",
    "*Request airdrop with Solana CLI*\n"
   ],
   "id": "4d439a41723cb50a"
  },
  {
   "metadata": {},
   "cell_type": "code",
   "source": "!dfx canister call basic_solana get_balance \"opt (${SOLANA_CLI_ADDRESS})\" --ic\n",
   "id": "37e7a268354da808",
   "outputs": [],
   "execution_count": null
  },
  {
   "metadata": {},
   "cell_type": "markdown",
   "source": [
    "## Send SOL 🪙\n",
    "\n",
    "ℹ️ Canister can control an Ed25519 public/private key pair thanks to [threshold Schnorr](https://internetcomputer.org/docs/building-apps/network-features/signatures/t-schnorr/):\n",
    "* Each replica holds a share of a secret key\n",
    "* Each replica can use its share to create a signature share for a given message\n",
    "* Combining enough signature shares result in a standard signature for that message\n",
    "* At no moment is the secret key reconstructed."
   ],
   "id": "db7c8ee31edeaf4f"
  },
  {
   "metadata": {},
   "cell_type": "markdown",
   "source": "### Fund address",
   "id": "5a32f7677f8c4e5d"
  },
  {
   "metadata": {},
   "cell_type": "code",
   "source": "!dfx canister call basic_solana solana_account --ic",
   "id": "fba18a248599311c",
   "outputs": [],
   "execution_count": null
  },
  {
   "metadata": {},
   "cell_type": "code",
   "source": "%env SOLANA_CANISTER_ADDRESS=\"8oU5d6pUjcx9iVMh3yEDJTH4ghdbtNUAkr8rn6s68TGc\"",
   "id": "ee663067afdfcb92",
   "outputs": [],
   "execution_count": null
  },
  {
   "metadata": {},
   "cell_type": "code",
   "source": "!dfx canister call basic_solana get_balance --ic",
   "id": "f63e33d39560eede",
   "outputs": [],
   "execution_count": null
  },
  {
   "metadata": {},
   "cell_type": "markdown",
   "source": "*Fund address via Solana CLI*",
   "id": "c887f9876e67a293"
  },
  {
   "metadata": {},
   "cell_type": "code",
   "source": "!dfx canister call basic_solana get_balance --ic\n",
   "id": "64bd6f8d228e17c2",
   "outputs": [],
   "execution_count": null
  },
  {
   "metadata": {},
   "cell_type": "markdown",
   "source": [
    "### Send transaction\n",
    "\n",
    "Send transaction of 1 Lamport back to Solana CLI address"
   ],
   "id": "d1b2a4364c22aded"
  },
  {
   "metadata": {},
   "cell_type": "code",
   "source": "!dfx canister call basic_solana send_sol \"(opt principal $MY_PRINCIPAL, $SOLANA_CLI_ADDRESS, 1 : nat)\" --ic",
   "id": "96d7c714d8129b80",
   "outputs": [],
   "execution_count": null
  },
  {
   "metadata": {},
   "cell_type": "markdown",
   "source": [
    "Check transaction on [Solana explorer](https://explorer.solana.com/?cluster=devnet):\n",
    "* nothing distinguishes a transaction signed via threshold Ed25529 from a regular transaction\n",
    "* address controlled by the canister also paid the transaction fee"
   ],
   "id": "6a11d61cbf9758e7"
  },
  {
   "metadata": {},
   "cell_type": "code",
   "source": "!dfx canister call basic_solana get_balance --ic\n",
   "id": "89021b29c9bb94bb",
   "outputs": [],
   "execution_count": null
  },
  {
   "metadata": {},
   "cell_type": "markdown",
   "source": [
    "* 1 major difficulty is getting a recent blockhash that must be part of the transaction.\n",
    "* See the [code](https://github.com/dfinity/sol-rpc-canister/blob/8e7e32f50a2e05fa671a3df8f7b19f64c5abbdce/examples/basic_solana/src/main.rs#L226) for more details."
   ],
   "id": "ad8ada2baf139e5e"
  },
  {
   "metadata": {},
   "cell_type": "markdown",
   "source": [
    "## Send USDC 💰\n",
    "\n",
    "Send 1 USDC from addressed controlled by canister to my Solana CLI wallet\n",
    "* USDC devnet: [4zMMC9srt5Ri5X14GAgXhaHii3GnPAEERYPJgZJDncDU](https://explorer.solana.com/address/4zMMC9srt5Ri5X14GAgXhaHii3GnPAEERYPJgZJDncDU?cluster=devnet)\n"
   ],
   "id": "dea32c9a6a438045"
  },
  {
   "metadata": {},
   "cell_type": "code",
   "source": "%env USDC_DEVNET=\"4zMMC9srt5Ri5X14GAgXhaHii3GnPAEERYPJgZJDncDU\"",
   "id": "13581fcd6325accb",
   "outputs": [],
   "execution_count": null
  },
  {
   "metadata": {},
   "cell_type": "markdown",
   "source": [
    "### Create associated token account\n",
    "\n",
    "ℹ An associated token account is:\n",
    "* needed to store the user's balance of a token => must be created before sending the first token.\n",
    "* an address derived from a Solana account and a token account => different tokens, different associated token accounts."
   ],
   "id": "920579a137e9a0"
  },
  {
   "metadata": {},
   "cell_type": "code",
   "source": "!dfx canister call basic_solana create_associated_token_account \"(opt principal $MY_PRINCIPAL, $USDC_DEVNET)\" --ic",
   "id": "606983201d658b27",
   "outputs": [],
   "execution_count": null
  },
  {
   "metadata": {},
   "cell_type": "markdown",
   "source": [
    "### Fund address associated token account\n",
    "\n",
    "* USDC [faucet](https://faucet.circle.com/)\n"
   ],
   "id": "82e6aab698f48a41"
  },
  {
   "metadata": {},
   "cell_type": "code",
   "source": "!dfx canister call basic_solana get_spl_token_balance \"(null, $USDC_DEVNET)\" --ic\n",
   "id": "23aa999b0a9ba9f3",
   "outputs": [],
   "execution_count": null
  },
  {
   "metadata": {},
   "cell_type": "markdown",
   "source": "### Send transaction",
   "id": "bdf50d1d108f3cd8"
  },
  {
   "metadata": {},
   "cell_type": "code",
   "source": "!dfx canister call basic_solana send_spl_token \"(opt principal $MY_PRINCIPAL, $USDC_DEVNET, $SOLANA_CLI_ADDRESS, 1_000_000 : nat)\" --ic",
   "id": "27ee5f636fe2b26e",
   "outputs": [],
   "execution_count": null
  },
  {
   "metadata": {},
   "cell_type": "code",
   "source": "!dfx canister call basic_solana get_spl_token_balance \"(null, $USDC_DEVNET)\" --ic\n",
   "id": "ba756d6c9dcb2475",
   "outputs": [],
   "execution_count": null
  }
 ],
 "metadata": {
  "kernelspec": {
   "display_name": "Python 3",
   "language": "python",
   "name": "python3"
  },
  "language_info": {
   "codemirror_mode": {
    "name": "ipython",
    "version": 2
   },
   "file_extension": ".py",
   "mimetype": "text/x-python",
   "name": "python",
   "nbconvert_exporter": "python",
   "pygments_lexer": "ipython2",
   "version": "2.7.6"
  }
 },
 "nbformat": 4,
 "nbformat_minor": 5
}
