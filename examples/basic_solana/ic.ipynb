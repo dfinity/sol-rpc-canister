{
 "cells": [
  {
   "metadata": {},
   "cell_type": "markdown",
   "source": [
    "# Deploy\n",
    "\n",
    "Deploy `basic_solana` example on mainnet."
   ],
   "id": "cc76aba2e2993339"
  },
  {
   "metadata": {
    "ExecuteTime": {
     "end_time": "2025-05-30T07:14:58.329112Z",
     "start_time": "2025-05-30T07:14:57.998381Z"
    }
   },
   "cell_type": "code",
   "source": "!dfx identity use admin",
   "id": "47bb3cc61a7ec3af",
   "outputs": [
    {
     "name": "stdout",
     "output_type": "stream",
     "text": [
      "\u001B[1mUsing identity: \"admin\".\u001B[m\r\n"
     ]
    }
   ],
   "execution_count": 15
  },
  {
   "metadata": {
    "ExecuteTime": {
     "end_time": "2025-05-30T07:15:17.036440Z",
     "start_time": "2025-05-30T07:15:02.980805Z"
    }
   },
   "cell_type": "code",
   "source": "!dfx deploy --ic basic_solana",
   "id": "90439aecf49e2672",
   "outputs": [
    {
     "name": "stdout",
     "output_type": "stream",
     "text": [
      "\u001B[1mDeploying: basic_solana\u001B[m\r\n",
      "\u001B[1mAll canisters have already been created.\u001B[m\r\n",
      "\u001B[2K\u001B[1mBuilding canister 'basic_solana'.\u001B[m                                        \r\n",
      "\u001B[2K\u001B[1m\u001B[32m\u001B[1mExecuting\u001B[0m 'cargo build --no-default-features --target wasm32-unknown-unknown --release'\u001B[m\r\n",
      "\u001B[2Kilding canisters...                                                         \u001B[1m\u001B[32m   Compiling\u001B[0m sol_rpc_client v0.2.0 (/Users/greg/git/sol-rpc-canister/libs/client)\r\n",
      "\u001B[K\u001B[1m\u001B[32m   Compiling\u001B[0m basic_solana v0.2.0 (/Users/greg/git/sol-rpc-canister/examples/basic_solana)\r\n",
      "\u001B[K\u001B[1m\u001B[32m    Finished\u001B[0m `release` profile [optimized] target(s) in 12.26sn)           \r\n",
      "\u001B[2K⠒ Installing canisters...                                                       ⠁ Installing canisters...                                                       \r\n",
      "\u001B[2K\u001B[2A⠒ Installing canisters...ic_solana, with canister ID vond4-2qaaa-aaaar-qbmiq-cai                                                                        \u001B[2A\r\n",
      "\u001B[2K\u001B[2A⠂ Installing canisters...ic_solana, with canister ID vond4-2qaaa-aaaar-qbmiq-cai                                                                        \u001B[2A\r\n",
      "\u001B[2K\u001B[2A⠂ Installing canisters...ic_solana, with canister ID vond4-2qaaa-aaaar-qbmiq-cai                                                                        \u001B[2A\r\n",
      "\u001B[2K\u001B[2A⠂ Installing canisters...ic_solana, with canister ID vond4-2qaaa-aaaar-qbmiq-cai                                                                        \u001B[2A\r\n",
      "\u001B[2K\u001B[2A⠂ Installing canisters...ic_solana, with canister ID vond4-2qaaa-aaaar-qbmiq-cai                                                                        \u001B[2A\r\n",
      "\u001B[2K\u001B[2A⠂ Installing canisters...ic_solana, with canister ID vond4-2qaaa-aaaar-qbmiq-cai                                                                        \u001B[2A\r\n",
      "\u001B[2K\u001B[2A\u001B[1mModule hash 4ae0c236e7b5bec153f527c6b291088af48e202d5eb154f8d9423e0005bcf160 is already installed.\u001B[m                                               \u001B[2A\r\n",
      "⠂ Installing canisters...\r\n",
      "\u001B[2K\u001B[1mUpgraded code for canister basic_solana, with canister ID vond4-2qaaa-aaaar-qbmiq-cai\u001B[m                                                                \u001B[2A\r\n",
      "\u001B[2K\u001B[1mDeployed canisters.\u001B[m                                                  \r\n",
      "\u001B[1mURLs:\u001B[m\r\n",
      "\u001B[1m  Backend canister via Candid interface:\u001B[m\r\n",
      "\u001B[1m    basic_solana: \u001B[32mhttps://a4gq6-oaaaa-aaaab-qaa4q-cai.raw.icp0.io/?id=vond4-2qaaa-aaaar-qbmiq-cai\u001B[0m\u001B[m\r\n"
     ]
    }
   ],
   "execution_count": 16
  },
  {
   "metadata": {},
   "cell_type": "code",
   "outputs": [],
   "execution_count": null,
   "source": "",
   "id": "e195087574cf6a75"
  },
  {
   "metadata": {
    "ExecuteTime": {
     "end_time": "2025-05-30T07:15:35.425815Z",
     "start_time": "2025-05-30T07:15:33.420587Z"
    }
   },
   "cell_type": "code",
   "source": "!dfx canister status --ic --all\n",
   "id": "933ff27e6dc8857e",
   "outputs": [
    {
     "name": "stdout",
     "output_type": "stream",
     "text": [
      "Canister status call result for basic_solana.\r\n",
      "Status: Running\r\n",
      "Controllers: 4nct6-qlari-qhlgv-qkhdd-5hak6-gtdms-ra2ya-gi7qq-2lref-zg34x-bqe ezu3d-2mifu-k3bh4-oqhrj-mbrql-5p67r-pp6pr-dbfra-unkx5-sxdtv-rae mf7xa-laaaa-aaaar-qaaaa-cai\r\n",
      "Memory allocation: 0 Bytes\r\n",
      "Compute allocation: 0 %\r\n",
      "Freezing threshold: 2_592_000 Seconds\r\n",
      "Idle cycles burned per day: 67_686_185 Cycles\r\n",
      "Memory Size: 2_532_485 Bytes\r\n",
      "Balance: 6_950_090_348_934 Cycles\r\n",
      "Reserved: 0 Cycles\r\n",
      "Reserved cycles limit: 5_000_000_000_000 Cycles\r\n",
      "Wasm memory limit: 3_221_225_472 Bytes\r\n",
      "Wasm memory threshold: 0 Bytes\r\n",
      "Module hash: 0x4ae0c236e7b5bec153f527c6b291088af48e202d5eb154f8d9423e0005bcf160\r\n",
      "Number of queries: 0\r\n",
      "Instructions spent in queries: 0\r\n",
      "Total query request payload size: 0 Bytes\r\n",
      "Total query response payload size: 0 Bytes\r\n",
      "Log visibility: controllers\r\n"
     ]
    }
   ],
   "execution_count": 17
  }
 ],
 "metadata": {
  "kernelspec": {
   "display_name": "Python 3",
   "language": "python",
   "name": "python3"
  },
  "language_info": {
   "codemirror_mode": {
    "name": "ipython",
    "version": 2
   },
   "file_extension": ".py",
   "mimetype": "text/x-python",
   "name": "python",
   "nbconvert_exporter": "python",
   "pygments_lexer": "ipython2",
   "version": "2.7.6"
  }
 },
 "nbformat": 4,
 "nbformat_minor": 5
}
