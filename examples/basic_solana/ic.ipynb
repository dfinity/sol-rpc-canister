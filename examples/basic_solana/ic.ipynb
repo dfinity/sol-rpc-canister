{
 "cells": [
  {
   "metadata": {},
   "cell_type": "markdown",
   "source": "# Internet Computer",
   "id": "9b799736922a80d0"
  },
  {
   "metadata": {},
   "cell_type": "markdown",
   "source": [
    "## Deploy\n",
    "\n",
    "Deploy `basic_solana` example on mainnet."
   ],
   "id": "cc76aba2e2993339"
  },
  {
   "metadata": {},
   "cell_type": "code",
   "source": "!dfx identity use admin",
   "id": "47bb3cc61a7ec3af",
   "outputs": [],
   "execution_count": null
  },
  {
   "metadata": {},
   "cell_type": "code",
   "source": "!dfx deploy --ic basic_solana",
   "id": "90439aecf49e2672",
   "outputs": [],
   "execution_count": null
  },
  {
   "metadata": {},
   "cell_type": "code",
   "source": "!dfx canister status --ic --all\n",
   "id": "933ff27e6dc8857e",
   "outputs": [],
   "execution_count": null
  },
  {
   "metadata": {},
   "cell_type": "markdown",
   "source": [
    "## Create a new identity\n",
    "Create a new identity, which is not a controller of the `basic_solana` canister, to interact with it."
   ],
   "id": "ade45d34f7e7f13c"
  },
  {
   "metadata": {
    "ExecuteTime": {
     "end_time": "2025-05-30T07:22:38.383349Z",
     "start_time": "2025-05-30T07:22:33.094083Z"
    }
   },
   "cell_type": "code",
   "source": "!dfx identity new helium_demo",
   "id": "dfe0740429cc8558",
   "outputs": [
    {
     "name": "stdout",
     "output_type": "stream",
     "text": [
      "Your seed phrase for identity 'helium_demo': sing vessel spirit salmon nasty embrace chalk apart nose dwarf fee cliff buzz mix midnight creek salad mechanic this scorpion emotion file lottery range\r\n",
      "This can be used to reconstruct your key in case of emergency, so write it down in a safe place.\r\n",
      "\u001B[1mCreated identity: \"helium_demo\".\u001B[m\r\n"
     ]
    }
   ],
   "execution_count": 18
  },
  {
   "metadata": {
    "ExecuteTime": {
     "end_time": "2025-05-30T07:23:39.780054Z",
     "start_time": "2025-05-30T07:23:35.041680Z"
    }
   },
   "cell_type": "code",
   "source": "!dfx identity use helium_demo",
   "id": "3acadb562f621208",
   "outputs": [
    {
     "name": "stdout",
     "output_type": "stream",
     "text": [
      "\u001B[1mUsing identity: \"helium_demo\".\u001B[m\r\n"
     ]
    }
   ],
   "execution_count": 19
  },
  {
   "metadata": {
    "ExecuteTime": {
     "end_time": "2025-05-30T07:23:59.825940Z",
     "start_time": "2025-05-30T07:23:59.469721Z"
    }
   },
   "cell_type": "code",
   "source": "!dfx identity get-principal",
   "id": "6b8053d57272bcea",
   "outputs": [
    {
     "name": "stdout",
     "output_type": "stream",
     "text": [
      "jzpi7-czxt3-hxopl-5on2x-nomma-6ntgp-dqecm-2zupp-o2r67-5g5eg-sae\r\n"
     ]
    }
   ],
   "execution_count": 20
  },
  {
   "metadata": {},
   "cell_type": "markdown",
   "source": "## Read Balance",
   "id": "950ff44b4f7baf11"
  },
  {
   "metadata": {
    "ExecuteTime": {
     "end_time": "2025-05-30T07:28:52.684100Z",
     "start_time": "2025-05-30T07:28:52.681300Z"
    }
   },
   "cell_type": "code",
   "source": "%env SOLANA_CLI_ADDRESS=\"DTXBMjo6tcosChHeV83Aq6gZuH8K7JYA6EL4ADaMi3Zc\"",
   "id": "6905c983a5b6e316",
   "outputs": [
    {
     "name": "stdout",
     "output_type": "stream",
     "text": [
      "env: SOLANA_CLI_ADDRESS=\"DTXBMjo6tcosChHeV83Aq6gZuH8K7JYA6EL4ADaMi3Zc\"\n"
     ]
    }
   ],
   "execution_count": 24
  },
  {
   "metadata": {
    "ExecuteTime": {
     "end_time": "2025-05-30T07:31:27.104877Z",
     "start_time": "2025-05-30T07:31:20.333743Z"
    }
   },
   "cell_type": "code",
   "source": "!dfx canister call basic_solana get_balance \"opt (${SOLANA_CLI_ADDRESS})\" --ic\n",
   "id": "f818bb31fcf75fdb",
   "outputs": [
    {
     "name": "stdout",
     "output_type": "stream",
     "text": [
      "(8_770_883_522 : nat)\r\n"
     ]
    }
   ],
   "execution_count": 27
  },
  {
   "metadata": {},
   "cell_type": "markdown",
   "source": [
    "* SOL has 9 decimals: 1 SOL == `1_000_000_000` Lamports\n",
    "* [Logs of SOL RPC canister](https://titvo-eiaaa-aaaar-qaogq-cai.raw.icp0.io/logs?sort=desc)\n",
    "    * 3 [HTTPS outcalls](https://support.dfinity.org/hc/en-us/articles/12342341722260-What-is-an-HTTPS-Outcall):\n",
    "        * `solana-devnet.g.alchemy.com`\n",
    "        * `lb.drpc.org`\n",
    "        * `devnet.helius-rpc.com`\n",
    "    * each HTTPS outcall involves each replica in the subnet making an HTTPS request => 34 HTTPs request for the [fiduciary subnet](https://dashboard.internetcomputer.org/subnet/pzp6e-ekpqk-3c5x7-2h6so-njoeq-mt45d-h3h6c-q3mxf-vpeq5-fk5o7-yae)\n",
    "    *  TOTAL: 102 HTTPS requests distributed all-over the world! 💪\n",
    "    * **no single point of failure** 🛡️\n"
   ],
   "id": "7e72e6551b687ea4"
  },
  {
   "metadata": {},
   "cell_type": "markdown",
   "source": [
    "\n",
    "*Request airdrop with Solana CLI*\n"
   ],
   "id": "4d439a41723cb50a"
  },
  {
   "metadata": {
    "ExecuteTime": {
     "end_time": "2025-05-30T07:32:11.412210Z",
     "start_time": "2025-05-30T07:32:01.870867Z"
    }
   },
   "cell_type": "code",
   "source": "!dfx canister call basic_solana get_balance \"opt (${SOLANA_CLI_ADDRESS})\" --ic\n",
   "id": "37e7a268354da808",
   "outputs": [
    {
     "name": "stdout",
     "output_type": "stream",
     "text": [
      "(8_770_883_522 : nat)\r\n"
     ]
    }
   ],
   "execution_count": 28
  }
 ],
 "metadata": {
  "kernelspec": {
   "display_name": "Python 3",
   "language": "python",
   "name": "python3"
  },
  "language_info": {
   "codemirror_mode": {
    "name": "ipython",
    "version": 2
   },
   "file_extension": ".py",
   "mimetype": "text/x-python",
   "name": "python",
   "nbconvert_exporter": "python",
   "pygments_lexer": "ipython2",
   "version": "2.7.6"
  }
 },
 "nbformat": 4,
 "nbformat_minor": 5
}
